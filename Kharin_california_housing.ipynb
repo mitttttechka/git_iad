{
  "nbformat": 4,
  "nbformat_minor": 0,
  "metadata": {
    "colab": {
      "name": "Kharin_california_housing.ipynb",
      "provenance": [],
      "collapsed_sections": [],
      "mount_file_id": "10KRusqgzVhnTX5X-lr4EGT-6k8VxuFZe",
      "authorship_tag": "ABX9TyPBgcWLKsNoGTDKAfGlThsz"
    },
    "kernelspec": {
      "name": "python3",
      "display_name": "Python 3"
    }
  },
  "cells": [
    {
      "cell_type": "code",
      "metadata": {
        "id": "Z9UDJ-xF-ueP"
      },
      "source": [
        "import pandas as pd\r\n",
        "import matplotlib.pyplot as plt\r\n",
        "import seaborn as sns"
      ],
      "execution_count": null,
      "outputs": []
    },
    {
      "cell_type": "code",
      "metadata": {
        "id": "UdVVICLTCJe4"
      },
      "source": [
        "data = pd.read_csv(\"/content/drive/MyDrive/Colab Notebooks/california_housing_train.csv\")"
      ],
      "execution_count": null,
      "outputs": []
    },
    {
      "cell_type": "code",
      "metadata": {
        "colab": {
          "base_uri": "https://localhost:8080/",
          "height": 195
        },
        "id": "BgsjB_JuCeE3",
        "outputId": "87dfea8a-b33b-4482-c57f-09183185149c"
      },
      "source": [
        "data.head()"
      ],
      "execution_count": null,
      "outputs": [
        {
          "output_type": "execute_result",
          "data": {
            "text/html": [
              "<div>\n",
              "<style scoped>\n",
              "    .dataframe tbody tr th:only-of-type {\n",
              "        vertical-align: middle;\n",
              "    }\n",
              "\n",
              "    .dataframe tbody tr th {\n",
              "        vertical-align: top;\n",
              "    }\n",
              "\n",
              "    .dataframe thead th {\n",
              "        text-align: right;\n",
              "    }\n",
              "</style>\n",
              "<table border=\"1\" class=\"dataframe\">\n",
              "  <thead>\n",
              "    <tr style=\"text-align: right;\">\n",
              "      <th></th>\n",
              "      <th>longitude</th>\n",
              "      <th>latitude</th>\n",
              "      <th>housing_median_age</th>\n",
              "      <th>total_rooms</th>\n",
              "      <th>total_bedrooms</th>\n",
              "      <th>population</th>\n",
              "      <th>households</th>\n",
              "      <th>median_income</th>\n",
              "      <th>median_house_value</th>\n",
              "    </tr>\n",
              "  </thead>\n",
              "  <tbody>\n",
              "    <tr>\n",
              "      <th>0</th>\n",
              "      <td>-114.31</td>\n",
              "      <td>34.19</td>\n",
              "      <td>15.0</td>\n",
              "      <td>5612.0</td>\n",
              "      <td>1283.0</td>\n",
              "      <td>1015.0</td>\n",
              "      <td>472.0</td>\n",
              "      <td>1.4936</td>\n",
              "      <td>66900.0</td>\n",
              "    </tr>\n",
              "    <tr>\n",
              "      <th>1</th>\n",
              "      <td>-114.47</td>\n",
              "      <td>34.40</td>\n",
              "      <td>19.0</td>\n",
              "      <td>7650.0</td>\n",
              "      <td>1901.0</td>\n",
              "      <td>1129.0</td>\n",
              "      <td>463.0</td>\n",
              "      <td>1.8200</td>\n",
              "      <td>80100.0</td>\n",
              "    </tr>\n",
              "    <tr>\n",
              "      <th>2</th>\n",
              "      <td>-114.56</td>\n",
              "      <td>33.69</td>\n",
              "      <td>17.0</td>\n",
              "      <td>720.0</td>\n",
              "      <td>174.0</td>\n",
              "      <td>333.0</td>\n",
              "      <td>117.0</td>\n",
              "      <td>1.6509</td>\n",
              "      <td>85700.0</td>\n",
              "    </tr>\n",
              "    <tr>\n",
              "      <th>3</th>\n",
              "      <td>-114.57</td>\n",
              "      <td>33.64</td>\n",
              "      <td>14.0</td>\n",
              "      <td>1501.0</td>\n",
              "      <td>337.0</td>\n",
              "      <td>515.0</td>\n",
              "      <td>226.0</td>\n",
              "      <td>3.1917</td>\n",
              "      <td>73400.0</td>\n",
              "    </tr>\n",
              "    <tr>\n",
              "      <th>4</th>\n",
              "      <td>-114.57</td>\n",
              "      <td>33.57</td>\n",
              "      <td>20.0</td>\n",
              "      <td>1454.0</td>\n",
              "      <td>326.0</td>\n",
              "      <td>624.0</td>\n",
              "      <td>262.0</td>\n",
              "      <td>1.9250</td>\n",
              "      <td>65500.0</td>\n",
              "    </tr>\n",
              "  </tbody>\n",
              "</table>\n",
              "</div>"
            ],
            "text/plain": [
              "   longitude  latitude  ...  median_income  median_house_value\n",
              "0    -114.31     34.19  ...         1.4936             66900.0\n",
              "1    -114.47     34.40  ...         1.8200             80100.0\n",
              "2    -114.56     33.69  ...         1.6509             85700.0\n",
              "3    -114.57     33.64  ...         3.1917             73400.0\n",
              "4    -114.57     33.57  ...         1.9250             65500.0\n",
              "\n",
              "[5 rows x 9 columns]"
            ]
          },
          "metadata": {
            "tags": []
          },
          "execution_count": 3
        }
      ]
    },
    {
      "cell_type": "code",
      "metadata": {
        "colab": {
          "base_uri": "https://localhost:8080/",
          "height": 553
        },
        "id": "Ys21HIv8CkFm",
        "outputId": "768857ea-fe1f-472d-b4df-c2bd6b80fae8"
      },
      "source": [
        "data.info()\r\n",
        "data.describe()"
      ],
      "execution_count": null,
      "outputs": [
        {
          "output_type": "stream",
          "text": [
            "<class 'pandas.core.frame.DataFrame'>\n",
            "RangeIndex: 17000 entries, 0 to 16999\n",
            "Data columns (total 9 columns):\n",
            " #   Column              Non-Null Count  Dtype  \n",
            "---  ------              --------------  -----  \n",
            " 0   longitude           17000 non-null  float64\n",
            " 1   latitude            17000 non-null  float64\n",
            " 2   housing_median_age  17000 non-null  float64\n",
            " 3   total_rooms         17000 non-null  float64\n",
            " 4   total_bedrooms      17000 non-null  float64\n",
            " 5   population          17000 non-null  float64\n",
            " 6   households          17000 non-null  float64\n",
            " 7   median_income       17000 non-null  float64\n",
            " 8   median_house_value  17000 non-null  float64\n",
            "dtypes: float64(9)\n",
            "memory usage: 1.2 MB\n"
          ],
          "name": "stdout"
        },
        {
          "output_type": "execute_result",
          "data": {
            "text/html": [
              "<div>\n",
              "<style scoped>\n",
              "    .dataframe tbody tr th:only-of-type {\n",
              "        vertical-align: middle;\n",
              "    }\n",
              "\n",
              "    .dataframe tbody tr th {\n",
              "        vertical-align: top;\n",
              "    }\n",
              "\n",
              "    .dataframe thead th {\n",
              "        text-align: right;\n",
              "    }\n",
              "</style>\n",
              "<table border=\"1\" class=\"dataframe\">\n",
              "  <thead>\n",
              "    <tr style=\"text-align: right;\">\n",
              "      <th></th>\n",
              "      <th>longitude</th>\n",
              "      <th>latitude</th>\n",
              "      <th>housing_median_age</th>\n",
              "      <th>total_rooms</th>\n",
              "      <th>total_bedrooms</th>\n",
              "      <th>population</th>\n",
              "      <th>households</th>\n",
              "      <th>median_income</th>\n",
              "      <th>median_house_value</th>\n",
              "    </tr>\n",
              "  </thead>\n",
              "  <tbody>\n",
              "    <tr>\n",
              "      <th>count</th>\n",
              "      <td>17000.000000</td>\n",
              "      <td>17000.000000</td>\n",
              "      <td>17000.000000</td>\n",
              "      <td>17000.000000</td>\n",
              "      <td>17000.000000</td>\n",
              "      <td>17000.000000</td>\n",
              "      <td>17000.000000</td>\n",
              "      <td>17000.000000</td>\n",
              "      <td>17000.000000</td>\n",
              "    </tr>\n",
              "    <tr>\n",
              "      <th>mean</th>\n",
              "      <td>-119.562108</td>\n",
              "      <td>35.625225</td>\n",
              "      <td>28.589353</td>\n",
              "      <td>2643.664412</td>\n",
              "      <td>539.410824</td>\n",
              "      <td>1429.573941</td>\n",
              "      <td>501.221941</td>\n",
              "      <td>3.883578</td>\n",
              "      <td>207300.912353</td>\n",
              "    </tr>\n",
              "    <tr>\n",
              "      <th>std</th>\n",
              "      <td>2.005166</td>\n",
              "      <td>2.137340</td>\n",
              "      <td>12.586937</td>\n",
              "      <td>2179.947071</td>\n",
              "      <td>421.499452</td>\n",
              "      <td>1147.852959</td>\n",
              "      <td>384.520841</td>\n",
              "      <td>1.908157</td>\n",
              "      <td>115983.764387</td>\n",
              "    </tr>\n",
              "    <tr>\n",
              "      <th>min</th>\n",
              "      <td>-124.350000</td>\n",
              "      <td>32.540000</td>\n",
              "      <td>1.000000</td>\n",
              "      <td>2.000000</td>\n",
              "      <td>1.000000</td>\n",
              "      <td>3.000000</td>\n",
              "      <td>1.000000</td>\n",
              "      <td>0.499900</td>\n",
              "      <td>14999.000000</td>\n",
              "    </tr>\n",
              "    <tr>\n",
              "      <th>25%</th>\n",
              "      <td>-121.790000</td>\n",
              "      <td>33.930000</td>\n",
              "      <td>18.000000</td>\n",
              "      <td>1462.000000</td>\n",
              "      <td>297.000000</td>\n",
              "      <td>790.000000</td>\n",
              "      <td>282.000000</td>\n",
              "      <td>2.566375</td>\n",
              "      <td>119400.000000</td>\n",
              "    </tr>\n",
              "    <tr>\n",
              "      <th>50%</th>\n",
              "      <td>-118.490000</td>\n",
              "      <td>34.250000</td>\n",
              "      <td>29.000000</td>\n",
              "      <td>2127.000000</td>\n",
              "      <td>434.000000</td>\n",
              "      <td>1167.000000</td>\n",
              "      <td>409.000000</td>\n",
              "      <td>3.544600</td>\n",
              "      <td>180400.000000</td>\n",
              "    </tr>\n",
              "    <tr>\n",
              "      <th>75%</th>\n",
              "      <td>-118.000000</td>\n",
              "      <td>37.720000</td>\n",
              "      <td>37.000000</td>\n",
              "      <td>3151.250000</td>\n",
              "      <td>648.250000</td>\n",
              "      <td>1721.000000</td>\n",
              "      <td>605.250000</td>\n",
              "      <td>4.767000</td>\n",
              "      <td>265000.000000</td>\n",
              "    </tr>\n",
              "    <tr>\n",
              "      <th>max</th>\n",
              "      <td>-114.310000</td>\n",
              "      <td>41.950000</td>\n",
              "      <td>52.000000</td>\n",
              "      <td>37937.000000</td>\n",
              "      <td>6445.000000</td>\n",
              "      <td>35682.000000</td>\n",
              "      <td>6082.000000</td>\n",
              "      <td>15.000100</td>\n",
              "      <td>500001.000000</td>\n",
              "    </tr>\n",
              "  </tbody>\n",
              "</table>\n",
              "</div>"
            ],
            "text/plain": [
              "          longitude      latitude  ...  median_income  median_house_value\n",
              "count  17000.000000  17000.000000  ...   17000.000000        17000.000000\n",
              "mean    -119.562108     35.625225  ...       3.883578       207300.912353\n",
              "std        2.005166      2.137340  ...       1.908157       115983.764387\n",
              "min     -124.350000     32.540000  ...       0.499900        14999.000000\n",
              "25%     -121.790000     33.930000  ...       2.566375       119400.000000\n",
              "50%     -118.490000     34.250000  ...       3.544600       180400.000000\n",
              "75%     -118.000000     37.720000  ...       4.767000       265000.000000\n",
              "max     -114.310000     41.950000  ...      15.000100       500001.000000\n",
              "\n",
              "[8 rows x 9 columns]"
            ]
          },
          "metadata": {
            "tags": []
          },
          "execution_count": 4
        }
      ]
    },
    {
      "cell_type": "code",
      "metadata": {
        "colab": {
          "base_uri": "https://localhost:8080/",
          "height": 1000
        },
        "id": "sqpYeuKVC6c1",
        "outputId": "dc8c1b7c-f1cc-4e07-b4d1-661e3615a9e5"
      },
      "source": [
        "data.hist(bins=50, figsize=(20,15))"
      ],
      "execution_count": null,
      "outputs": [
        {
          "output_type": "execute_result",
          "data": {
            "text/plain": [
              "array([[<matplotlib.axes._subplots.AxesSubplot object at 0x7f965c4f5be0>,\n",
              "        <matplotlib.axes._subplots.AxesSubplot object at 0x7f965c4cde48>,\n",
              "        <matplotlib.axes._subplots.AxesSubplot object at 0x7f965c4910f0>],\n",
              "       [<matplotlib.axes._subplots.AxesSubplot object at 0x7f965c441358>,\n",
              "        <matplotlib.axes._subplots.AxesSubplot object at 0x7f965c3f65c0>,\n",
              "        <matplotlib.axes._subplots.AxesSubplot object at 0x7f965c42a828>],\n",
              "       [<matplotlib.axes._subplots.AxesSubplot object at 0x7f965c3dca90>,\n",
              "        <matplotlib.axes._subplots.AxesSubplot object at 0x7f965c38fcc0>,\n",
              "        <matplotlib.axes._subplots.AxesSubplot object at 0x7f965c38fd30>]],\n",
              "      dtype=object)"
            ]
          },
          "metadata": {
            "tags": []
          },
          "execution_count": 5
        },
        {
          "output_type": "display_data",
          "data": {
            "image/png": "[encoded data removed]",
            "text/plain": [
              "<Figure size 1440x1080 with 9 Axes>"
            ]
          },
          "metadata": {
            "tags": [],
            "needs_background": "light"
          }
        }
      ]
    },
    {
      "cell_type": "code",
      "metadata": {
        "colab": {
          "base_uri": "https://localhost:8080/"
        },
        "id": "pKGtegQjLxv2",
        "outputId": "55f2126f-dc83-474a-e8d9-784ff6298b9b"
      },
      "source": [
        "data.isna().sum()"
      ],
      "execution_count": null,
      "outputs": [
        {
          "output_type": "execute_result",
          "data": {
            "text/plain": [
              "longitude             0\n",
              "latitude              0\n",
              "housing_median_age    0\n",
              "total_rooms           0\n",
              "total_bedrooms        0\n",
              "population            0\n",
              "households            0\n",
              "median_income         0\n",
              "median_house_value    0\n",
              "dtype: int64"
            ]
          },
          "metadata": {
            "tags": []
          },
          "execution_count": 6
        }
      ]
    },
    {
      "cell_type": "code",
      "metadata": {
        "colab": {
          "base_uri": "https://localhost:8080/",
          "height": 382
        },
        "id": "KVT5WoZNYPOo",
        "outputId": "65303d39-da1c-4a72-f593-3567396addb3"
      },
      "source": [
        "sns.heatmap(data.corr(), annot=True)"
      ],
      "execution_count": null,
      "outputs": [
        {
          "output_type": "execute_result",
          "data": {
            "text/plain": [
              "<matplotlib.axes._subplots.AxesSubplot at 0x7f965bcdf2e8>"
            ]
          },
          "metadata": {
            "tags": []
          },
          "execution_count": 7
        },
        {
          "output_type": "display_data",
          "data": {
            "image/png": "[encoded data removed]",
            "text/plain": [
              "<Figure size 432x288 with 2 Axes>"
            ]
          },
          "metadata": {
            "tags": [],
            "needs_background": "light"
          }
        }
      ]
    },
    {
      "cell_type": "code",
      "metadata": {
        "id": "zqX78PGE2YmX"
      },
      "source": [
        "X = data.drop(\"median_house_value\", axis = 1)\r\n",
        "Y = data[\"median_house_value\"].copy()"
      ],
      "execution_count": null,
      "outputs": []
    },
    {
      "cell_type": "code",
      "metadata": {
        "id": "lcelSCow3Di5"
      },
      "source": [
        "from sklearn.model_selection import train_test_split\r\n",
        "X_train, X_test, y_train, y_test = train_test_split(X, Y, test_size=0.3, random_state=0)"
      ],
      "execution_count": null,
      "outputs": []
    },
    {
      "cell_type": "code",
      "metadata": {
        "colab": {
          "base_uri": "https://localhost:8080/"
        },
        "id": "7q0NKY8U3PVG",
        "outputId": "c2ec5e2d-b888-4c10-8d48-660bf73b94b8"
      },
      "source": [
        "import pandas as pd\r\n",
        "from sklearn.linear_model import LinearRegression\r\n",
        "from sklearn.metrics import r2_score\r\n",
        "lm = LinearRegression()\r\n",
        "lm.fit(X_train, y_train)"
      ],
      "execution_count": null,
      "outputs": [
        {
          "output_type": "execute_result",
          "data": {
            "text/plain": [
              "LinearRegression(copy_X=True, fit_intercept=True, n_jobs=None, normalize=False)"
            ]
          },
          "metadata": {
            "tags": []
          },
          "execution_count": 10
        }
      ]
    },
    {
      "cell_type": "code",
      "metadata": {
        "colab": {
          "base_uri": "https://localhost:8080/"
        },
        "id": "slYNUEZS3Sc6",
        "outputId": "b965f5fb-b4be-4077-dac1-9000195f1081"
      },
      "source": [
        "print(\"The R-squared value is: {0:0.4f} \\n\".format(lm.score(X_train, y_train)))"
      ],
      "execution_count": null,
      "outputs": [
        {
          "output_type": "stream",
          "text": [
            "The R-squared value is: 0.6418 \n",
            "\n"
          ],
          "name": "stdout"
        }
      ]
    },
    {
      "cell_type": "code",
      "metadata": {
        "id": "muENksoy5Qar"
      },
      "source": [
        "predicted = lm.predict(X_test)\r\n",
        "import numpy as np\r\n",
        "mae = np.mean(abs(predicted-y_test))\r\n",
        "rmse = np.sqrt(np.mean((predicted-y_test)**2))\r\n",
        "rae = np.mean(abs(predicted-y_test))/np.mean(abs(y_test-np.mean(y_test)))\r\n",
        "rse = np.mean((predicted-y_test)**2)/np.mean((y_test-np.mean(y_test)))\r\n",
        "rse = np.mean((predicted-y_test)**2)/np.mean((y_test-np.mean(y_test))**2)\r\n"
      ],
      "execution_count": null,
      "outputs": []
    },
    {
      "cell_type": "code",
      "metadata": {
        "colab": {
          "base_uri": "https://localhost:8080/"
        },
        "id": "AtajXwLj5TUl",
        "outputId": "49f0a25e-8d84-49e4-d082-ab1f410021e2"
      },
      "source": [
        "mae"
      ],
      "execution_count": null,
      "outputs": [
        {
          "output_type": "execute_result",
          "data": {
            "text/plain": [
              "50389.04998191908"
            ]
          },
          "metadata": {
            "tags": []
          },
          "execution_count": 13
        }
      ]
    },
    {
      "cell_type": "code",
      "metadata": {
        "colab": {
          "base_uri": "https://localhost:8080/"
        },
        "id": "LBaexPiM5XmV",
        "outputId": "bbdb2133-567f-4ce2-cb96-31b27709e3ee"
      },
      "source": [
        "print(\"The R-squared value is: {0:0.4f}\".format(lm.score(X_test, y_test)))\r\n",
        "print(\"Mean Absolute Error: {0:0.6f}\".format(mae))\r\n",
        "print(\"Root Mean Squared Error: {0:0.6f}\".format(rmse))\r\n",
        "print(\"Relative Absolute Error: {0:0.6f}\".format(rae))\r\n",
        "print(\"Relative Squared Error: {0:0.6f}\".format(rse))"
      ],
      "execution_count": null,
      "outputs": [
        {
          "output_type": "stream",
          "text": [
            "The R-squared value is: 0.6398\n",
            "Mean Absolute Error: 50389.049982\n",
            "Root Mean Squared Error: 69057.715851\n",
            "Relative Absolute Error: 0.551683\n",
            "Relative Squared Error: 0.360222\n"
          ],
          "name": "stdout"
        }
      ]
    },
    {
      "cell_type": "code",
      "metadata": {
        "id": "ayC25_i__JMG"
      },
      "source": [
        "%matplotlib inline\r\n",
        "import matplotlib.pyplot as plt\r\n",
        "from sklearn import preprocessing\r\n",
        "from sklearn.feature_selection import RFE\r\n",
        "from sklearn.feature_selection import RFECV"
      ],
      "execution_count": null,
      "outputs": []
    },
    {
      "cell_type": "code",
      "metadata": {
        "id": "vl-KETdN_RlQ"
      },
      "source": [
        "lm = LinearRegression()\r\n",
        "std_scaler = preprocessing.StandardScaler()\r\n",
        "scaled = pd.DataFrame(std_scaler.fit_transform(X_train), columns = X_train.columns)"
      ],
      "execution_count": null,
      "outputs": []
    },
    {
      "cell_type": "code",
      "metadata": {
        "colab": {
          "base_uri": "https://localhost:8080/",
          "height": 195
        },
        "id": "gpsTXD6QC2Uu",
        "outputId": "2c936aad-b466-4c35-d0af-e3d48192b376"
      },
      "source": [
        "scaled.head()"
      ],
      "execution_count": null,
      "outputs": [
        {
          "output_type": "execute_result",
          "data": {
            "text/html": [
              "<div>\n",
              "<style scoped>\n",
              "    .dataframe tbody tr th:only-of-type {\n",
              "        vertical-align: middle;\n",
              "    }\n",
              "\n",
              "    .dataframe tbody tr th {\n",
              "        vertical-align: top;\n",
              "    }\n",
              "\n",
              "    .dataframe thead th {\n",
              "        text-align: right;\n",
              "    }\n",
              "</style>\n",
              "<table border=\"1\" class=\"dataframe\">\n",
              "  <thead>\n",
              "    <tr style=\"text-align: right;\">\n",
              "      <th></th>\n",
              "      <th>longitude</th>\n",
              "      <th>latitude</th>\n",
              "      <th>housing_median_age</th>\n",
              "      <th>total_rooms</th>\n",
              "      <th>total_bedrooms</th>\n",
              "      <th>population</th>\n",
              "      <th>households</th>\n",
              "      <th>median_income</th>\n",
              "    </tr>\n",
              "  </thead>\n",
              "  <tbody>\n",
              "    <tr>\n",
              "      <th>0</th>\n",
              "      <td>1.332380</td>\n",
              "      <td>-0.638459</td>\n",
              "      <td>-1.390756</td>\n",
              "      <td>-0.701467</td>\n",
              "      <td>-0.800731</td>\n",
              "      <td>-1.014761</td>\n",
              "      <td>-1.058482</td>\n",
              "      <td>0.550659</td>\n",
              "    </tr>\n",
              "    <tr>\n",
              "      <th>1</th>\n",
              "      <td>-0.908162</td>\n",
              "      <td>1.390503</td>\n",
              "      <td>0.589818</td>\n",
              "      <td>-0.629485</td>\n",
              "      <td>-0.892599</td>\n",
              "      <td>-0.903028</td>\n",
              "      <td>-0.921695</td>\n",
              "      <td>1.530797</td>\n",
              "    </tr>\n",
              "    <tr>\n",
              "      <th>2</th>\n",
              "      <td>-0.629339</td>\n",
              "      <td>-0.144045</td>\n",
              "      <td>-0.994641</td>\n",
              "      <td>0.573967</td>\n",
              "      <td>0.379425</td>\n",
              "      <td>-0.087882</td>\n",
              "      <td>0.355836</td>\n",
              "      <td>-0.723374</td>\n",
              "    </tr>\n",
              "    <tr>\n",
              "      <th>3</th>\n",
              "      <td>0.834482</td>\n",
              "      <td>-0.894994</td>\n",
              "      <td>-0.836195</td>\n",
              "      <td>-0.230884</td>\n",
              "      <td>-0.388501</td>\n",
              "      <td>0.029776</td>\n",
              "      <td>-0.245507</td>\n",
              "      <td>0.821022</td>\n",
              "    </tr>\n",
              "    <tr>\n",
              "      <th>4</th>\n",
              "      <td>-1.435934</td>\n",
              "      <td>1.008032</td>\n",
              "      <td>1.857386</td>\n",
              "      <td>0.387713</td>\n",
              "      <td>0.596140</td>\n",
              "      <td>0.232081</td>\n",
              "      <td>0.404873</td>\n",
              "      <td>-0.542091</td>\n",
              "    </tr>\n",
              "  </tbody>\n",
              "</table>\n",
              "</div>"
            ],
            "text/plain": [
              "   longitude  latitude  ...  households  median_income\n",
              "0   1.332380 -0.638459  ...   -1.058482       0.550659\n",
              "1  -0.908162  1.390503  ...   -0.921695       1.530797\n",
              "2  -0.629339 -0.144045  ...    0.355836      -0.723374\n",
              "3   0.834482 -0.894994  ...   -0.245507       0.821022\n",
              "4  -1.435934  1.008032  ...    0.404873      -0.542091\n",
              "\n",
              "[5 rows x 8 columns]"
            ]
          },
          "metadata": {
            "tags": []
          },
          "execution_count": 17
        }
      ]
    },
    {
      "cell_type": "code",
      "metadata": {
        "colab": {
          "base_uri": "https://localhost:8080/"
        },
        "id": "I9X4INmVAzjr",
        "outputId": "ddd62409-91d0-471d-855c-6d8e9142881f"
      },
      "source": [
        "rfecv = RFECV(estimator=lm, step = 1, cv=5)\r\n",
        "rfecv.fit(scaled, y_train)"
      ],
      "execution_count": null,
      "outputs": [
        {
          "output_type": "execute_result",
          "data": {
            "text/plain": [
              "RFECV(cv=5,\n",
              "      estimator=LinearRegression(copy_X=True, fit_intercept=True, n_jobs=None,\n",
              "                                 normalize=False),\n",
              "      min_features_to_select=1, n_jobs=None, scoring=None, step=1, verbose=0)"
            ]
          },
          "metadata": {
            "tags": []
          },
          "execution_count": 18
        }
      ]
    },
    {
      "cell_type": "code",
      "metadata": {
        "colab": {
          "base_uri": "https://localhost:8080/"
        },
        "id": "bhQA7BucA7v1",
        "outputId": "abed9c59-4ce2-44f7-8d3b-e31335f85c80"
      },
      "source": [
        "print(\"Optimal number of features : %d\" % rfecv.n_features_)"
      ],
      "execution_count": null,
      "outputs": [
        {
          "output_type": "stream",
          "text": [
            "Optimal number of features : 8\n"
          ],
          "name": "stdout"
        }
      ]
    },
    {
      "cell_type": "code",
      "metadata": {
        "colab": {
          "base_uri": "https://localhost:8080/",
          "height": 405
        },
        "id": "nu4a6_TABCdM",
        "outputId": "c22d5b27-ec35-424b-ae44-30654f2649d6"
      },
      "source": [
        "plt.figure(figsize=(6 * 1.618, 6))\r\n",
        "plt.xlabel(\"Number of features selected\")\r\n",
        "plt.ylabel(\"mean-squared-error\")\r\n",
        "plt.plot(range(1, len(rfecv.grid_scores_) + 1), rfecv.grid_scores_)"
      ],
      "execution_count": null,
      "outputs": [
        {
          "output_type": "execute_result",
          "data": {
            "text/plain": [
              "[<matplotlib.lines.Line2D at 0x7f96502099b0>]"
            ]
          },
          "metadata": {
            "tags": []
          },
          "execution_count": 20
        },
        {
          "output_type": "display_data",
          "data": {
            "image/png": "[encoded data removed]",
            "text/plain": [
              "<Figure size 698.976x432 with 1 Axes>"
            ]
          },
          "metadata": {
            "tags": [],
            "needs_background": "light"
          }
        }
      ]
    },
    {
      "cell_type": "code",
      "metadata": {
        "colab": {
          "base_uri": "https://localhost:8080/",
          "height": 195
        },
        "id": "OOVWnXD2ELno",
        "outputId": "5d3ff1f6-eee2-4202-a3aa-4c9629ccdf12"
      },
      "source": [
        "X_train.head()"
      ],
      "execution_count": null,
      "outputs": [
        {
          "output_type": "execute_result",
          "data": {
            "text/html": [
              "<div>\n",
              "<style scoped>\n",
              "    .dataframe tbody tr th:only-of-type {\n",
              "        vertical-align: middle;\n",
              "    }\n",
              "\n",
              "    .dataframe tbody tr th {\n",
              "        vertical-align: top;\n",
              "    }\n",
              "\n",
              "    .dataframe thead th {\n",
              "        text-align: right;\n",
              "    }\n",
              "</style>\n",
              "<table border=\"1\" class=\"dataframe\">\n",
              "  <thead>\n",
              "    <tr style=\"text-align: right;\">\n",
              "      <th></th>\n",
              "      <th>longitude</th>\n",
              "      <th>latitude</th>\n",
              "      <th>housing_median_age</th>\n",
              "      <th>total_rooms</th>\n",
              "      <th>total_bedrooms</th>\n",
              "      <th>population</th>\n",
              "      <th>households</th>\n",
              "      <th>median_income</th>\n",
              "    </tr>\n",
              "  </thead>\n",
              "  <tbody>\n",
              "    <tr>\n",
              "      <th>322</th>\n",
              "      <td>-116.88</td>\n",
              "      <td>34.25</td>\n",
              "      <td>11.0</td>\n",
              "      <td>1089.0</td>\n",
              "      <td>198.0</td>\n",
              "      <td>230.0</td>\n",
              "      <td>90.0</td>\n",
              "      <td>4.9643</td>\n",
              "    </tr>\n",
              "    <tr>\n",
              "      <th>11968</th>\n",
              "      <td>-121.38</td>\n",
              "      <td>38.60</td>\n",
              "      <td>36.0</td>\n",
              "      <td>1249.0</td>\n",
              "      <td>159.0</td>\n",
              "      <td>362.0</td>\n",
              "      <td>143.0</td>\n",
              "      <td>6.8469</td>\n",
              "    </tr>\n",
              "    <tr>\n",
              "      <th>10868</th>\n",
              "      <td>-120.82</td>\n",
              "      <td>35.31</td>\n",
              "      <td>16.0</td>\n",
              "      <td>3924.0</td>\n",
              "      <td>699.0</td>\n",
              "      <td>1325.0</td>\n",
              "      <td>638.0</td>\n",
              "      <td>2.5172</td>\n",
              "    </tr>\n",
              "    <tr>\n",
              "      <th>3394</th>\n",
              "      <td>-117.88</td>\n",
              "      <td>33.70</td>\n",
              "      <td>18.0</td>\n",
              "      <td>2135.0</td>\n",
              "      <td>373.0</td>\n",
              "      <td>1464.0</td>\n",
              "      <td>405.0</td>\n",
              "      <td>5.4836</td>\n",
              "    </tr>\n",
              "    <tr>\n",
              "      <th>15993</th>\n",
              "      <td>-122.44</td>\n",
              "      <td>37.78</td>\n",
              "      <td>52.0</td>\n",
              "      <td>3510.0</td>\n",
              "      <td>791.0</td>\n",
              "      <td>1703.0</td>\n",
              "      <td>657.0</td>\n",
              "      <td>2.8654</td>\n",
              "    </tr>\n",
              "  </tbody>\n",
              "</table>\n",
              "</div>"
            ],
            "text/plain": [
              "       longitude  latitude  ...  households  median_income\n",
              "322      -116.88     34.25  ...        90.0         4.9643\n",
              "11968    -121.38     38.60  ...       143.0         6.8469\n",
              "10868    -120.82     35.31  ...       638.0         2.5172\n",
              "3394     -117.88     33.70  ...       405.0         5.4836\n",
              "15993    -122.44     37.78  ...       657.0         2.8654\n",
              "\n",
              "[5 rows x 8 columns]"
            ]
          },
          "metadata": {
            "tags": []
          },
          "execution_count": 21
        }
      ]
    },
    {
      "cell_type": "code",
      "metadata": {
        "colab": {
          "base_uri": "https://localhost:8080/"
        },
        "id": "oIW2HAXcBTbm",
        "outputId": "9491efef-db86-4abd-db7a-0759c441326c"
      },
      "source": [
        "X_train_new = X_train\r\n",
        "lm2 = LinearRegression()\r\n",
        "lm2.fit(X_train_new, y_train)"
      ],
      "execution_count": null,
      "outputs": [
        {
          "output_type": "execute_result",
          "data": {
            "text/plain": [
              "LinearRegression(copy_X=True, fit_intercept=True, n_jobs=None, normalize=False)"
            ]
          },
          "metadata": {
            "tags": []
          },
          "execution_count": 23
        }
      ]
    },
    {
      "cell_type": "code",
      "metadata": {
        "colab": {
          "base_uri": "https://localhost:8080/"
        },
        "id": "Bwi_QPHXEcp8",
        "outputId": "a5d36cb0-6420-4d55-d8bd-6801b8a6375d"
      },
      "source": [
        "predicted = lm2.predict(X_train_new)\r\n",
        "\r\n",
        "rmse = np.sqrt(np.mean((predicted-y_train)**2))\r\n",
        "print(\"Root Mean Squared Error: {0:0.4f}\".format(rmse))"
      ],
      "execution_count": null,
      "outputs": [
        {
          "output_type": "stream",
          "text": [
            "Root Mean Squared Error: 69648.7773\n"
          ],
          "name": "stdout"
        }
      ]
    },
    {
      "cell_type": "code",
      "metadata": {
        "colab": {
          "base_uri": "https://localhost:8080/"
        },
        "id": "qM12yAFwEiX3",
        "outputId": "81432662-320d-4ae1-d5f2-54cedfb9cbbb"
      },
      "source": [
        "print(\"The R-squared value is: {0:0.4f} \\n\".format(lm2.score(X_train_new, y_train)))"
      ],
      "execution_count": null,
      "outputs": [
        {
          "output_type": "stream",
          "text": [
            "The R-squared value is: 0.6418 \n",
            "\n"
          ],
          "name": "stdout"
        }
      ]
    },
    {
      "cell_type": "code",
      "metadata": {
        "id": "Nj3aoFH_Em9h"
      },
      "source": [
        "X_test_part = X_test\r\n",
        "predicted = lm2.predict(X_test_part)"
      ],
      "execution_count": null,
      "outputs": []
    },
    {
      "cell_type": "code",
      "metadata": {
        "colab": {
          "base_uri": "https://localhost:8080/"
        },
        "id": "6Qiz2na-E3lY",
        "outputId": "94511efb-89e9-4ab0-ad56-cc13ddb1deb1"
      },
      "source": [
        "mae = np.mean(abs(predicted-y_test))\r\n",
        "rmse = np.sqrt(np.mean((predicted-y_test)**2))\r\n",
        "rae = np.mean(abs(predicted-y_test))/np.mean(abs(y_test-np.mean(y_test)))\r\n",
        "rse = np.mean((predicted-y_test)**2)/np.mean((y_test-np.mean(y_test))**2)\r\n",
        "print(\"The R-squared value is: {0:0.4f} \\n\".format(lm2.score(X_train_new, y_train)))\r\n",
        "print(\"Mean Absolute Error: {0:0.6f}\".format(mae))\r\n",
        "print(\"Root Mean Squared Error: {0:0.6f}\".format(rmse))\r\n",
        "print(\"Relative Absolute Error: {0:0.6f}\".format(rae))\r\n",
        "print(\"Relative Squared Error: {0:0.6f}\".format(rse))"
      ],
      "execution_count": null,
      "outputs": [
        {
          "output_type": "stream",
          "text": [
            "The R-squared value is: 0.6418 \n",
            "\n",
            "Mean Absolute Error: 50389.049982\n",
            "Root Mean Squared Error: 69057.715851\n",
            "Relative Absolute Error: 0.551683\n",
            "Relative Squared Error: 0.360222\n"
          ],
          "name": "stdout"
        }
      ]
    },
    {
      "cell_type": "code",
      "metadata": {
        "colab": {
          "base_uri": "https://localhost:8080/"
        },
        "id": "dXogmvJ_o6Ft",
        "outputId": "bb311333-03ad-4fd0-c5d0-70e5c050729a"
      },
      "source": [
        "from sklearn.model_selection import learning_curve, GridSearchCV\r\n",
        "from sklearn.ensemble import GradientBoostingRegressor\r\n",
        "from time import time\r\n",
        "gbm = GradientBoostingRegressor()\r\n",
        "gbm.fit(X_train, y_train)"
      ],
      "execution_count": null,
      "outputs": [
        {
          "output_type": "execute_result",
          "data": {
            "text/plain": [
              "GradientBoostingRegressor(alpha=0.9, ccp_alpha=0.0, criterion='friedman_mse',\n",
              "                          init=None, learning_rate=0.1, loss='ls', max_depth=3,\n",
              "                          max_features=None, max_leaf_nodes=None,\n",
              "                          min_impurity_decrease=0.0, min_impurity_split=None,\n",
              "                          min_samples_leaf=1, min_samples_split=2,\n",
              "                          min_weight_fraction_leaf=0.0, n_estimators=100,\n",
              "                          n_iter_no_change=None, presort='deprecated',\n",
              "                          random_state=None, subsample=1.0, tol=0.0001,\n",
              "                          validation_fraction=0.1, verbose=0, warm_start=False)"
            ]
          },
          "metadata": {
            "tags": []
          },
          "execution_count": 29
        }
      ]
    },
    {
      "cell_type": "code",
      "metadata": {
        "colab": {
          "base_uri": "https://localhost:8080/"
        },
        "id": "w8deSFv4pBDP",
        "outputId": "4ecb23ad-c411-448a-d4c8-df323b2bfddc"
      },
      "source": [
        "from sklearn.metrics import r2_score\r\n",
        "print(\"The R-squared value is: {0:0.4f} \\n\".format(r2_score(y_train, gbm.predict(X_train))))"
      ],
      "execution_count": null,
      "outputs": [
        {
          "output_type": "stream",
          "text": [
            "The R-squared value is: 0.8006 \n",
            "\n"
          ],
          "name": "stdout"
        }
      ]
    },
    {
      "cell_type": "code",
      "metadata": {
        "colab": {
          "base_uri": "https://localhost:8080/"
        },
        "id": "e15qXqBNpvnH",
        "outputId": "54a9340e-6777-4a43-c7db-918171608617"
      },
      "source": [
        "params = {'n_estimators': 1000, 'max_depth': 4, 'min_samples_split': 4,\r\n",
        "'learning_rate': 0.01, 'loss': 'ls', 'random_state': 0}\r\n",
        "gbm_1 = GradientBoostingRegressor(**params)\r\n",
        "gbm_1"
      ],
      "execution_count": null,
      "outputs": [
        {
          "output_type": "execute_result",
          "data": {
            "text/plain": [
              "GradientBoostingRegressor(alpha=0.9, ccp_alpha=0.0, criterion='friedman_mse',\n",
              "                          init=None, learning_rate=0.01, loss='ls', max_depth=4,\n",
              "                          max_features=None, max_leaf_nodes=None,\n",
              "                          min_impurity_decrease=0.0, min_impurity_split=None,\n",
              "                          min_samples_leaf=1, min_samples_split=4,\n",
              "                          min_weight_fraction_leaf=0.0, n_estimators=1000,\n",
              "                          n_iter_no_change=None, presort='deprecated',\n",
              "                          random_state=0, subsample=1.0, tol=0.0001,\n",
              "                          validation_fraction=0.1, verbose=0, warm_start=False)"
            ]
          },
          "metadata": {
            "tags": []
          },
          "execution_count": 31
        }
      ]
    },
    {
      "cell_type": "code",
      "metadata": {
        "colab": {
          "base_uri": "https://localhost:8080/"
        },
        "id": "oMnPOVEjpzYk",
        "outputId": "10898eca-ec5b-4347-a7ce-0c428a14a4bb"
      },
      "source": [
        "gbm_1.fit(X_train, y_train)\r\n",
        "print(\"The R-squared value is: {0:0.4f} \\n\"\r\n",
        ".format(r2_score(y_train, gbm_1.predict(X_train)))) "
      ],
      "execution_count": null,
      "outputs": [
        {
          "output_type": "stream",
          "text": [
            "The R-squared value is: 0.8377 \n",
            "\n"
          ],
          "name": "stdout"
        }
      ]
    },
    {
      "cell_type": "code",
      "metadata": {
        "colab": {
          "base_uri": "https://localhost:8080/"
        },
        "id": "CFwQEPT8-Q3F",
        "outputId": "7f30efa3-1568-47f5-ad95-f82cfc0134bf"
      },
      "source": [
        "params_2 = {'n_estimators': 10000, 'max_depth': 2,  'min_samples_leaf': 2,\r\n",
        " 'min_samples_split': 6,\r\n",
        " 'learning_rate': 0.01, 'loss': 'ls'}\r\n",
        "gbm_2 = GradientBoostingRegressor(**params_2)\r\n",
        "gbm_2.fit(X_train, y_train)\r\n",
        "# print the R-squared\r\n",
        "from sklearn.metrics import r2_score\r\n",
        "print(\"The R-squared value is: {0:0.4f} \\n\".\r\n",
        " format(r2_score(y_train,gbm_2.predict(X_train))))"
      ],
      "execution_count": null,
      "outputs": [
        {
          "output_type": "stream",
          "text": [
            "The R-squared value is: 0.8483 \n",
            "\n"
          ],
          "name": "stdout"
        }
      ]
    },
    {
      "cell_type": "code",
      "metadata": {
        "colab": {
          "base_uri": "https://localhost:8080/"
        },
        "id": "ItgNj-v1_-DD",
        "outputId": "ce45b251-d1a3-4bde-96f1-85a8fc59d82c"
      },
      "source": [
        "predicted = gbm_2.predict(X_test)\r\n",
        "\r\n",
        "mae = np.mean(abs(predicted-y_test))\r\n",
        "rmse = np.sqrt(np.mean((predicted-y_test)**2))\r\n",
        "rae = np.mean(abs(predicted-y_test))/np.mean(abs(y_test-np.mean(y_test)))\r\n",
        "rse = np.mean((predicted-y_test)**2)/np.mean((y_test-np.mean(y_test))**2)\r\n",
        "\r\n",
        "# print metrics on test data\r\n",
        "from sklearn.metrics import r2_score\r\n",
        "print(\"The R-squared value is: {0:0.4f} \\n\".format(r2_score(y_test,predicted)))\r\n",
        "print(\"Mean Absolute Error: {0:0.6f}\".format(mae))\r\n",
        "print(\"Root Mean Squared Error: {0:0.6f}\".format(rmse))\r\n",
        "print(\"Relative Absolute Error: {0:0.6f}\".format(rae))\r\n",
        "print(\"Relative Squared Error: {0:0.6f}\".format(rse))"
      ],
      "execution_count": null,
      "outputs": [
        {
          "output_type": "stream",
          "text": [
            "The R-squared value is: 0.8094 \n",
            "\n",
            "Mean Absolute Error: 34762.230984\n",
            "Root Mean Squared Error: 50230.533687\n",
            "Relative Absolute Error: 0.380593\n",
            "Relative Squared Error: 0.190582\n"
          ],
          "name": "stdout"
        }
      ]
    }
  ]
}